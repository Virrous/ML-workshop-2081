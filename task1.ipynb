{
 "cells": [
  {
   "cell_type": "code",
   "execution_count": 1,
   "id": "f49ac3ca-7f54-45db-b32f-6cca26036413",
   "metadata": {},
   "outputs": [
    {
     "name": "stdin",
     "output_type": "stream",
     "text": [
      "enter first name Ashes\n",
      "enter second name Pokhrel\n"
     ]
    },
    {
     "name": "stdout",
     "output_type": "stream",
     "text": [
      "hello Ashes Pokhrel\n"
     ]
    }
   ],
   "source": [
    "fname=input('enter first name')\n",
    "lname =input('enter second name')\n",
    "print(f'hello {fname} {lname}')"
   ]
  },
  {
   "cell_type": "code",
   "execution_count": 2,
   "id": "26feb7d3-22b5-4408-9b6d-e608c97b2035",
   "metadata": {},
   "outputs": [
    {
     "name": "stdin",
     "output_type": "stream",
     "text": [
      "Enter weight (in kg):  2\n",
      "Enter height (in cm):  1\n"
     ]
    },
    {
     "name": "stdout",
     "output_type": "stream",
     "text": [
      "BMI:  20000.0\n"
     ]
    }
   ],
   "source": [
    "import math\n",
    "weight = int(input(\"Enter weight (in kg): \"))\n",
    "height = int(input(\"Enter height (in cm): \"))\n",
    "bmi = round(weight/pow((height/100),2),2)\n",
    "print(\"BMI: \",bmi);\n"
   ]
  },
  {
   "cell_type": "code",
   "execution_count": 5,
   "id": "27a3c9b9-4005-4eb5-92a5-8a718c4b2c90",
   "metadata": {},
   "outputs": [
    {
     "name": "stdin",
     "output_type": "stream",
     "text": [
      "Enter a positive number:  -5\n"
     ]
    },
    {
     "name": "stdout",
     "output_type": "stream",
     "text": [
      "err! negative number\n"
     ]
    },
    {
     "name": "stdin",
     "output_type": "stream",
     "text": [
      "Enter a positive number:  -2\n"
     ]
    },
    {
     "name": "stdout",
     "output_type": "stream",
     "text": [
      "err! negative number\n"
     ]
    },
    {
     "name": "stdin",
     "output_type": "stream",
     "text": [
      "Enter a positive number:  1\n"
     ]
    },
    {
     "name": "stdout",
     "output_type": "stream",
     "text": [
      "Great! it is positive\n"
     ]
    }
   ],
   "source": [
    "# q 6 asks user to enter +ve number unless they enter it\n",
    "condt=True\n",
    "while condt:\n",
    "    a=int(input(\"Enter a positive number: \"))\n",
    "    if a<0:\n",
    "        print(\"err! negative number\")\n",
    "    else:\n",
    "        print(\"Great! it is positive\")\n",
    "        condt=False\n"
   ]
  },
  {
   "cell_type": "code",
   "execution_count": 3,
   "id": "94148ac8-a623-4bc8-b1f9-aac0d8eb1514",
   "metadata": {},
   "outputs": [
    {
     "name": "stdin",
     "output_type": "stream",
     "text": [
      "Enter a Word apple\n"
     ]
    },
    {
     "name": "stdout",
     "output_type": "stream",
     "text": [
      "elppa\n",
      "Given word is not palindrome\n"
     ]
    }
   ],
   "source": [
    "# palindrome\n",
    "\n",
    "word=input(\"Enter a Word\")\n",
    "\n",
    "\n",
    "def is_palindrome(word):\n",
    "    reverse=\"\"\n",
    "    for char in word:\n",
    "        reverse=char+reverse \n",
    "    # print(reverse)\n",
    "    if word==reverse:\n",
    "        print(\"Given word is palindrome\")\n",
    "    else:\n",
    "        print(\"Given word is not palindrome\")\n",
    "\n",
    "is_palindrome(word)"
   ]
  },
  {
   "cell_type": "code",
   "execution_count": 11,
   "id": "419c9652-e565-432e-9f87-0b212526ef2f",
   "metadata": {},
   "outputs": [
    {
     "name": "stdin",
     "output_type": "stream",
     "text": [
      "Enter a number:  5\n"
     ]
    },
    {
     "name": "stdout",
     "output_type": "stream",
     "text": [
      "0 1 1 2 3 "
     ]
    }
   ],
   "source": [
    "# fibonacci\n",
    "\n",
    "def fib(n):\n",
    "    if n <= 0:\n",
    "        return 0\n",
    "    elif n == 1:\n",
    "        return 1\n",
    "    else:\n",
    "        return fib(n-1) + fib(n-2)\n",
    "\n",
    "n = int(input(\"Enter a number: \"))\n",
    "for i in range(0,n):\n",
    "    print(fib(i), end=\" \")\n"
   ]
  },
  {
   "cell_type": "code",
   "execution_count": null,
   "id": "366efdf1-434b-45ae-b296-9a59fdeeff32",
   "metadata": {},
   "outputs": [],
   "source": []
  }
 ],
 "metadata": {
  "kernelspec": {
   "display_name": "Python 3 (ipykernel)",
   "language": "python",
   "name": "python3"
  },
  "language_info": {
   "codemirror_mode": {
    "name": "ipython",
    "version": 3
   },
   "file_extension": ".py",
   "mimetype": "text/x-python",
   "name": "python",
   "nbconvert_exporter": "python",
   "pygments_lexer": "ipython3",
   "version": "3.10.5"
  }
 },
 "nbformat": 4,
 "nbformat_minor": 5
}
