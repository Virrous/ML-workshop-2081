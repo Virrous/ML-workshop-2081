{
 "cells": [
  {
   "cell_type": "markdown",
   "id": "dde1d147-5f61-4185-a98c-85dbbabcfe7d",
   "metadata": {},
   "source": [
    "# list\n",
    "a=[1,2,3,4,5]\n",
    "print(a)\n",
    "print(type(a))\n",
    "\n",
    "# empty lists and adding items\n",
    "b=[]\n",
    "print(b)\n",
    "b.append(101)\n",
    "b.append('Ram')\n",
    "b.append(20.5)\n",
    "print(b)\n",
    "\n"
   ]
  },
  {
   "cell_type": "code",
   "execution_count": null,
   "id": "ad51a342-3d93-46c9-b284-1b0486b5e074",
   "metadata": {},
   "outputs": [],
   "source": [
    "# iterating over list items\n",
    "for items in b:\n",
    "    print(items)"
   ]
  },
  {
   "cell_type": "code",
   "execution_count": null,
   "id": "3cb6fbb1-dd83-48de-b64d-092c7686ac9d",
   "metadata": {},
   "outputs": [],
   "source": [
    "#sorting \n",
    "list=[10,3,2,5,6,22,13]\n",
    "list.sort()\n",
    "list[0]=12 #list items can be modified\n",
    "print(list)\n",
    "list.sort()\n",
    "print(list)\n",
    "\n",
    "# tuple\n",
    "tup=(1,2,3,4,5,6)\n",
    "print(type(tup))\n",
    "# tup[0]=10   #tuple items can't be modified\n",
    "print(tup)\n"
   ]
  },
  {
   "cell_type": "code",
   "execution_count": null,
   "id": "8e5faef7-8e31-45bf-bafe-d6b3d4d98bd4",
   "metadata": {},
   "outputs": [],
   "source": [
    "# set list and tuples\n",
    "\n",
    "list=[1,1,2,2]\n",
    "tup=(1,1,2,2)\n",
    "set={1,1,2,2}\n",
    "print(list)\n",
    "print(tup)\n",
    "print(set)  #list and tuple supports duplicate data but not set"
   ]
  },
  {
   "cell_type": "code",
   "execution_count": null,
   "id": "19136120-683f-46b2-8c5e-a86c7243f578",
   "metadata": {},
   "outputs": [],
   "source": [
    "# dictionary\n",
    "mydict={'hello':1,'prog':2,'text':3}\n",
    "print(mydict)\n",
    "for key in mydict:\n",
    "    if mydict[key]==2:\n",
    "        print(key,mydict[key])\n"
   ]
  },
  {
   "cell_type": "code",
   "execution_count": null,
   "id": "e5558531-7232-4b8d-b298-3f5a3d13a543",
   "metadata": {},
   "outputs": [],
   "source": [
    "# numpy \n",
    "import numpy as np\n",
    "print(np.__version__)\n",
    "\n",
    "arr=np.arange(1,20)\n",
    "print(arr)\n",
    "\n",
    "a=np.array([[1,2,3,4],[6,7,8,9]])\n",
    "print(a)"
   ]
  },
  {
   "cell_type": "code",
   "execution_count": null,
   "id": "292fbe7a-f83a-4df0-bb22-2b99834399ae",
   "metadata": {},
   "outputs": [],
   "source": [
    "import numpy as np\n",
    "a=np.array([[1,2,3,4,5,6],[6,7,8,9,10,11]])\n",
    "matrix=np.copy(a.reshape(4,3))\n",
    "print(matrix)"
   ]
  },
  {
   "cell_type": "code",
   "execution_count": null,
   "id": "d28c2918-8412-4f51-ba24-fd4cc9b4ccf8",
   "metadata": {},
   "outputs": [],
   "source": [
    "# import random\n",
    "mat1=np.random.randint(10,50,(2,2))\n",
    "mat2=np.random.randint(10,50,(2,2))\n",
    "print(mat1)\n",
    "print(mat2)\n",
    "print(\"---\")\n",
    "print(mat1+mat2)"
   ]
  },
  {
   "cell_type": "code",
   "execution_count": null,
   "id": "36d4355a-9ca3-49fa-9114-5bfee15414a4",
   "metadata": {},
   "outputs": [],
   "source": [
    "pip install pandas"
   ]
  },
  {
   "cell_type": "code",
   "execution_count": null,
   "id": "6691e8a7-e403-4e42-9d44-015be2245a1d",
   "metadata": {},
   "outputs": [],
   "source": [
    "import pandas as pd\n",
    "print(pd.__version__)\n",
    "df=pd.read_csv(\"pandaCSV/grammy.csv\")\n",
    "print(df.head)"
   ]
  },
  {
   "cell_type": "code",
   "execution_count": null,
   "id": "87ccf987-6e18-4c71-9759-7e28390e4480",
   "metadata": {},
   "outputs": [],
   "source": [
    "pip install scikit-learn\n"
   ]
  },
  {
   "cell_type": "code",
   "execution_count": null,
   "id": "428fe0ac-0210-4164-8498-ac5e6e4ca102",
   "metadata": {},
   "outputs": [],
   "source": [
    "from sklearn.datasets import load_iris\n",
    "import pandas as pd\n",
    "iris=load_iris()\n",
    "data=pd.DataFrame(data=iris.data,columns=iris.feature_names)\n",
    "data['target']=iris.target\n",
    "print(data.head)"
   ]
  },
  {
   "cell_type": "code",
   "execution_count": null,
   "id": "6fdba72f-e079-415f-a537-c8b54f4d6d68",
   "metadata": {},
   "outputs": [],
   "source": [
    "pip install seaborn"
   ]
  },
  {
   "cell_type": "code",
   "execution_count": null,
   "id": "481b75b1-3f33-46b1-a489-ee5e58991dc3",
   "metadata": {},
   "outputs": [],
   "source": [
    "pip install matplotlib"
   ]
  },
  {
   "cell_type": "code",
   "execution_count": null,
   "id": "d2b01cfd-0c3d-4623-8747-5edd0790d9fa",
   "metadata": {},
   "outputs": [],
   "source": []
  }
 ],
 "metadata": {
  "kernelspec": {
   "display_name": "Python 3 (ipykernel)",
   "language": "python",
   "name": "python3"
  },
  "language_info": {
   "codemirror_mode": {
    "name": "ipython",
    "version": 3
   },
   "file_extension": ".py",
   "mimetype": "text/x-python",
   "name": "python",
   "nbconvert_exporter": "python",
   "pygments_lexer": "ipython3",
   "version": "3.10.5"
  }
 },
 "nbformat": 4,
 "nbformat_minor": 5
}
