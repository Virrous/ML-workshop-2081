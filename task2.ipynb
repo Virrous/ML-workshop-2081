{
 "cells": [
  {
   "cell_type": "code",
   "execution_count": 2,
   "id": "67e3ef9f-526a-43e6-ad53-ce75a81460dd",
   "metadata": {},
   "outputs": [
    {
     "name": "stdin",
     "output_type": "stream",
     "text": [
      "Enter a string:  program\n"
     ]
    },
    {
     "name": "stdout",
     "output_type": "stream",
     "text": [
      "{'p': 1, 'r': 2, 'o': 1, 'g': 1, 'a': 1, 'm': 1}\n"
     ]
    }
   ],
   "source": [
    "# Q1. \n",
    "\n",
    "def count_char(string):\n",
    "    dict={}\n",
    "    for char in string:\n",
    "        if char in dict:\n",
    "            dict[char]+=1\n",
    "        else:\n",
    "            dict[char]=1\n",
    "    return dict\n",
    "\n",
    "string= input(\"Enter a string: \")\n",
    "print(count_char(string))\n"
   ]
  },
  {
   "cell_type": "code",
   "execution_count": 6,
   "id": "cac97a56-7277-48b9-b8a4-26300c666f73",
   "metadata": {},
   "outputs": [
    {
     "name": "stdout",
     "output_type": "stream",
     "text": [
      "{1: 1, 2: 4, 3: 9, 4: 16, 5: 25}\n"
     ]
    }
   ],
   "source": [
    "# Q2\n",
    "\n",
    "import math\n",
    "dict={}\n",
    "for i in range(0,5):\n",
    "    dict[i+1]=pow((i+1),2)\n",
    "print(dict)"
   ]
  },
  {
   "cell_type": "code",
   "execution_count": 10,
   "id": "1df7d936-d5ae-43af-9bfb-44aa2d7fe3ca",
   "metadata": {},
   "outputs": [
    {
     "name": "stdout",
     "output_type": "stream",
     "text": [
      "{'a': 6, 'b': 2, 'c': 9, 'd': 4, 'e': 7, 'r': 8}\n"
     ]
    }
   ],
   "source": [
    "# Q3\n",
    "\n",
    "dict1 = {'a':1,'b':2,'c':3,'d':4}\n",
    "dict2 = {'a':5,'c':6,'e':7,'r':8}\n",
    "dict3={}\n",
    "\n",
    "for key in dict1:\n",
    "    dict3=dict1\n",
    "\n",
    "for key in dict2:\n",
    "    if key in dict3:\n",
    "        dict3[key]+=dict2[key]\n",
    "    else:\n",
    "        dict3[key]=dict2[key]\n",
    "print(dict3)\n",
    "\n"
   ]
  },
  {
   "cell_type": "code",
   "execution_count": 29,
   "id": "e62099c0-e11c-4059-b0d7-4932e6c70663",
   "metadata": {},
   "outputs": [
    {
     "name": "stdout",
     "output_type": "stream",
     "text": [
      "a\n",
      "a 11\n",
      "c\n",
      "c 30\n"
     ]
    }
   ],
   "source": [
    "# Q4\n",
    "\n",
    "mydict = {'a':11,'b':2,'c':30,'d':4}\n",
    "for key in mydict:\n",
    "     if mydict[key]>=10:\n",
    "         # print(mydict[key])\n",
    "         # print(key)\n",
    "         print(key,mydict[key])\n",
    "\n"
   ]
  },
  {
   "cell_type": "code",
   "execution_count": 6,
   "id": "e8c14552-7828-4faf-b134-58cd8d253428",
   "metadata": {},
   "outputs": [
    {
     "name": "stdout",
     "output_type": "stream",
     "text": [
      "[1, 2, 3, 4, 5]\n",
      "<class 'list'>\n",
      "[]\n",
      "[101, 'Ram', 20.5]\n"
     ]
    }
   ],
   "source": [
    "# list\n",
    "a=[1,2,3,4,5]\n",
    "print(a)\n",
    "print(type(a))\n",
    "\n",
    "# empty lists and adding items\n",
    "b=[]\n",
    "print(b)\n",
    "b.append(101)\n",
    "b.append('Ram')\n",
    "b.append(20.5)\n",
    "print(b)\n",
    "\n"
   ]
  },
  {
   "cell_type": "code",
   "execution_count": 8,
   "id": "0d621c9e-3dda-48c4-bbda-6e136b83381a",
   "metadata": {},
   "outputs": [
    {
     "ename": "TypeError",
     "evalue": "'int' object is not subscriptable",
     "output_type": "error",
     "traceback": [
      "\u001b[1;31m---------------------------------------------------------------------------\u001b[0m",
      "\u001b[1;31mTypeError\u001b[0m                                 Traceback (most recent call last)",
      "Cell \u001b[1;32mIn[8], line 3\u001b[0m\n\u001b[0;32m      1\u001b[0m \u001b[38;5;66;03m# iterating over list items\u001b[39;00m\n\u001b[0;32m      2\u001b[0m \u001b[38;5;28;01mfor\u001b[39;00m items \u001b[38;5;129;01min\u001b[39;00m b:\n\u001b[1;32m----> 3\u001b[0m     \u001b[38;5;28mprint\u001b[39m(\u001b[43mitems\u001b[49m\u001b[43m[\u001b[49m\u001b[38;5;241;43m1\u001b[39;49m\u001b[43m]\u001b[49m)\n",
      "\u001b[1;31mTypeError\u001b[0m: 'int' object is not subscriptable"
     ]
    }
   ],
   "source": [
    "# iterating over list items\n",
    "for items in b:\n",
    "    print(items)"
   ]
  }
 ],
 "metadata": {
  "kernelspec": {
   "display_name": "Python 3 (ipykernel)",
   "language": "python",
   "name": "python3"
  },
  "language_info": {
   "codemirror_mode": {
    "name": "ipython",
    "version": 3
   },
   "file_extension": ".py",
   "mimetype": "text/x-python",
   "name": "python",
   "nbconvert_exporter": "python",
   "pygments_lexer": "ipython3",
   "version": "3.10.5"
  }
 },
 "nbformat": 4,
 "nbformat_minor": 5
}
