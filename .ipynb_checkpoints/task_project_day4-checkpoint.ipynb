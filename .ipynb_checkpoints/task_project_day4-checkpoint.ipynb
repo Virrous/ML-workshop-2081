{
 "cells": [
  {
   "cell_type": "code",
   "execution_count": 49,
   "id": "953a0466-0bca-4e6c-b221-f45b658022e6",
   "metadata": {},
   "outputs": [],
   "source": [
    "import pandas as pd\n",
    "from sklearn.model_selection import train_test_split\n",
    "import matplotlib.pyplot as plt\n",
    "import seaborn as sns\n",
    "from sklearn.linear_model import LinearRegression\n",
    "from sklearn.metrics import mean_squared_error,mean_absolute_error,r2_score"
   ]
  },
  {
   "cell_type": "code",
   "execution_count": 8,
   "id": "9ac8bd03-bf29-46cf-9e2d-c2d6eb6334a3",
   "metadata": {},
   "outputs": [
    {
     "data": {
      "text/html": [
       "<div>\n",
       "<style scoped>\n",
       "    .dataframe tbody tr th:only-of-type {\n",
       "        vertical-align: middle;\n",
       "    }\n",
       "\n",
       "    .dataframe tbody tr th {\n",
       "        vertical-align: top;\n",
       "    }\n",
       "\n",
       "    .dataframe thead th {\n",
       "        text-align: right;\n",
       "    }\n",
       "</style>\n",
       "<table border=\"1\" class=\"dataframe\">\n",
       "  <thead>\n",
       "    <tr style=\"text-align: right;\">\n",
       "      <th></th>\n",
       "      <th>flat_type</th>\n",
       "      <th>location1</th>\n",
       "      <th>buildupArea_sqft</th>\n",
       "      <th>age_of_property</th>\n",
       "      <th>furnishing</th>\n",
       "      <th>bedrooms</th>\n",
       "      <th>bathrooms</th>\n",
       "      <th>balcony</th>\n",
       "      <th>parking</th>\n",
       "      <th>Flat_price</th>\n",
       "    </tr>\n",
       "  </thead>\n",
       "  <tbody>\n",
       "    <tr>\n",
       "      <th>0</th>\n",
       "      <td>2</td>\n",
       "      <td>Mira Road East</td>\n",
       "      <td>1060</td>\n",
       "      <td>recent construction</td>\n",
       "      <td>Semi Furnished</td>\n",
       "      <td>2</td>\n",
       "      <td>2</td>\n",
       "      <td>0</td>\n",
       "      <td>1</td>\n",
       "      <td>9500</td>\n",
       "    </tr>\n",
       "    <tr>\n",
       "      <th>1</th>\n",
       "      <td>1</td>\n",
       "      <td>Borivali East</td>\n",
       "      <td>525</td>\n",
       "      <td>mid age property</td>\n",
       "      <td>Semi Furnished</td>\n",
       "      <td>1</td>\n",
       "      <td>2</td>\n",
       "      <td>0</td>\n",
       "      <td>0</td>\n",
       "      <td>9300</td>\n",
       "    </tr>\n",
       "    <tr>\n",
       "      <th>2</th>\n",
       "      <td>2</td>\n",
       "      <td>Bhandup West</td>\n",
       "      <td>1065</td>\n",
       "      <td>new construction</td>\n",
       "      <td>Semi Furnished</td>\n",
       "      <td>2</td>\n",
       "      <td>2</td>\n",
       "      <td>1</td>\n",
       "      <td>1</td>\n",
       "      <td>14800</td>\n",
       "    </tr>\n",
       "    <tr>\n",
       "      <th>3</th>\n",
       "      <td>3</td>\n",
       "      <td>Bhandup West</td>\n",
       "      <td>1150</td>\n",
       "      <td>recent construction</td>\n",
       "      <td>Semi Furnished</td>\n",
       "      <td>3</td>\n",
       "      <td>2</td>\n",
       "      <td>0</td>\n",
       "      <td>1</td>\n",
       "      <td>25000</td>\n",
       "    </tr>\n",
       "    <tr>\n",
       "      <th>4</th>\n",
       "      <td>1</td>\n",
       "      <td>Wadala East</td>\n",
       "      <td>480</td>\n",
       "      <td>new construction</td>\n",
       "      <td>Unfurnished</td>\n",
       "      <td>1</td>\n",
       "      <td>2</td>\n",
       "      <td>0</td>\n",
       "      <td>1</td>\n",
       "      <td>11000</td>\n",
       "    </tr>\n",
       "  </tbody>\n",
       "</table>\n",
       "</div>"
      ],
      "text/plain": [
       "   flat_type       location1  buildupArea_sqft      age_of_property  \\\n",
       "0          2  Mira Road East              1060  recent construction   \n",
       "1          1   Borivali East               525     mid age property   \n",
       "2          2    Bhandup West              1065     new construction   \n",
       "3          3    Bhandup West              1150  recent construction   \n",
       "4          1     Wadala East               480     new construction   \n",
       "\n",
       "       furnishing  bedrooms  bathrooms  balcony  parking  Flat_price  \n",
       "0  Semi Furnished         2          2        0        1        9500  \n",
       "1  Semi Furnished         1          2        0        0        9300  \n",
       "2  Semi Furnished         2          2        1        1       14800  \n",
       "3  Semi Furnished         3          2        0        1       25000  \n",
       "4     Unfurnished         1          2        0        1       11000  "
      ]
     },
     "execution_count": 8,
     "metadata": {},
     "output_type": "execute_result"
    }
   ],
   "source": [
    "df=pd.read_csv('pandaCSV/flat_price.csv')\n",
    "df.head(5)"
   ]
  },
  {
   "cell_type": "code",
   "execution_count": 9,
   "id": "61deb730-5259-4aec-9681-834208d73370",
   "metadata": {},
   "outputs": [
    {
     "data": {
      "text/plain": [
       "(7483, 10)"
      ]
     },
     "execution_count": 9,
     "metadata": {},
     "output_type": "execute_result"
    }
   ],
   "source": [
    "df.shape  "
   ]
  },
  {
   "cell_type": "code",
   "execution_count": 10,
   "id": "42c043ff-f4e6-4ce3-86f0-6cd6860f491b",
   "metadata": {},
   "outputs": [
    {
     "name": "stdout",
     "output_type": "stream",
     "text": [
      "flat_type           0\n",
      "location1           0\n",
      "buildupArea_sqft    0\n",
      "age_of_property     0\n",
      "furnishing          0\n",
      "bedrooms            0\n",
      "bathrooms           0\n",
      "balcony             0\n",
      "parking             0\n",
      "Flat_price          0\n",
      "dtype: int64\n"
     ]
    }
   ],
   "source": [
    "print(df.isna().sum())   age_of_property   furnishing  Flat_price"
   ]
  },
  {
   "cell_type": "code",
   "execution_count": 15,
   "id": "40649fe5-7045-4ae8-987c-3a939160eb20",
   "metadata": {},
   "outputs": [
    {
     "data": {
      "text/html": [
       "<div>\n",
       "<style scoped>\n",
       "    .dataframe tbody tr th:only-of-type {\n",
       "        vertical-align: middle;\n",
       "    }\n",
       "\n",
       "    .dataframe tbody tr th {\n",
       "        vertical-align: top;\n",
       "    }\n",
       "\n",
       "    .dataframe thead th {\n",
       "        text-align: right;\n",
       "    }\n",
       "</style>\n",
       "<table border=\"1\" class=\"dataframe\">\n",
       "  <thead>\n",
       "    <tr style=\"text-align: right;\">\n",
       "      <th></th>\n",
       "      <th>flat_type</th>\n",
       "      <th>buildupArea_sqft</th>\n",
       "      <th>bedrooms</th>\n",
       "      <th>bathrooms</th>\n",
       "      <th>balcony</th>\n",
       "      <th>parking</th>\n",
       "    </tr>\n",
       "  </thead>\n",
       "  <tbody>\n",
       "    <tr>\n",
       "      <th>0</th>\n",
       "      <td>2</td>\n",
       "      <td>1060</td>\n",
       "      <td>2</td>\n",
       "      <td>2</td>\n",
       "      <td>0</td>\n",
       "      <td>1</td>\n",
       "    </tr>\n",
       "    <tr>\n",
       "      <th>1</th>\n",
       "      <td>1</td>\n",
       "      <td>525</td>\n",
       "      <td>1</td>\n",
       "      <td>2</td>\n",
       "      <td>0</td>\n",
       "      <td>0</td>\n",
       "    </tr>\n",
       "    <tr>\n",
       "      <th>2</th>\n",
       "      <td>2</td>\n",
       "      <td>1065</td>\n",
       "      <td>2</td>\n",
       "      <td>2</td>\n",
       "      <td>1</td>\n",
       "      <td>1</td>\n",
       "    </tr>\n",
       "  </tbody>\n",
       "</table>\n",
       "</div>"
      ],
      "text/plain": [
       "   flat_type  buildupArea_sqft  bedrooms  bathrooms  balcony  parking\n",
       "0          2              1060         2          2        0        1\n",
       "1          1               525         1          2        0        0\n",
       "2          2              1065         2          2        1        1"
      ]
     },
     "execution_count": 15,
     "metadata": {},
     "output_type": "execute_result"
    }
   ],
   "source": [
    "x=df.drop(columns=['location1','age_of_property','furnishing','Flat_price'])\n",
    "y=df[['Flat_price']]\n",
    "# x.head(3)\n",
    "# y.head(3)"
   ]
  },
  {
   "cell_type": "code",
   "execution_count": 19,
   "id": "558a000c-ff74-442e-a93c-ce1db6cd9966",
   "metadata": {},
   "outputs": [
    {
     "data": {
      "text/plain": [
       "(2245, 6)"
      ]
     },
     "execution_count": 19,
     "metadata": {},
     "output_type": "execute_result"
    }
   ],
   "source": [
    "x_train,x_test,y_train,y_test=train_test_split(x,y,test_size=0.3,random_state=5)\n",
    "x_test.shape"
   ]
  },
  {
   "cell_type": "code",
   "execution_count": 37,
   "id": "a49dc93d-fc1c-4d3e-8ab6-d3333e9f3a2d",
   "metadata": {},
   "outputs": [
    {
     "data": {
      "image/png": "[encoded data removed]",
      "text/plain": [
       "<Figure size 1000x500 with 2 Axes>"
      ]
     },
     "metadata": {},
     "output_type": "display_data"
    }
   ],
   "source": [
    "correlation_matrix=x.corr()\n",
    "correlation_matrix\n",
    "plt.figure(figsize=(10,5))\n",
    "# visualizing heatmap from seaborn\n",
    "sns.heatmap(correlation_matrix,annot=True,cmap='cool')\n",
    "plt.title('Flat details')\n",
    "plt.show()"
   ]
  },
  {
   "cell_type": "code",
   "execution_count": 55,
   "id": "4a66bc1d-087f-4b46-ae96-0d0ffcc868f9",
   "metadata": {},
   "outputs": [
    {
     "data": {
      "text/plain": [
       "array([[47853.49776622],\n",
       "       [20196.89672845],\n",
       "       [16455.07647268],\n",
       "       ...,\n",
       "       [ 8248.74826529],\n",
       "       [38047.41101778],\n",
       "       [ 5368.52817637]])"
      ]
     },
     "execution_count": 55,
     "metadata": {},
     "output_type": "execute_result"
    }
   ],
   "source": [
    "model=LinearRegression()\n",
    "model.fit(x_train,y_train)\n",
    "predict = model.predict(x_test)\n",
    "# predict\n",
    "# x_test\n",
    "print(f'MSE = {mean_squared_error(y_test,predict)}')\n",
    "print(f'MAE = {mean_absolute_error(y_test,predict)}')\n",
    "print(f'R2 Score = {r2_score(y_test,predict)}')"
   ]
  }
 ],
 "metadata": {
  "kernelspec": {
   "display_name": "Python 3 (ipykernel)",
   "language": "python",
   "name": "python3"
  },
  "language_info": {
   "codemirror_mode": {
    "name": "ipython",
    "version": 3
   },
   "file_extension": ".py",
   "mimetype": "text/x-python",
   "name": "python",
   "nbconvert_exporter": "python",
   "pygments_lexer": "ipython3",
   "version": "3.10.5"
  }
 },
 "nbformat": 4,
 "nbformat_minor": 5
}
