{
 "cells": [
  {
   "cell_type": "code",
   "execution_count": null,
   "id": "0d3d36e3-41d7-42b5-9510-08890a28cf5b",
   "metadata": {},
   "outputs": [],
   "source": [
    "# Numpy tasks\n",
    "import numpy as np\n",
    "import random\n",
    "matrix=np.random.randint(1,9,(3,3))\n",
    "print(matrix)\n",
    "print(type(matrix))\n",
    "count=0\n",
    "for rows in matrix:\n",
    "    count+=1\n",
    "    print(\"row:\",count)\n",
    "    print(rows)\n",
    "    \n",
    "                          "
   ]
  },
  {
   "cell_type": "code",
   "execution_count": null,
   "id": "8506af55-6a0f-4f03-a315-69cabd135ea5",
   "metadata": {},
   "outputs": [],
   "source": [
    "# extracting even numbers from numpy array\n",
    "numbers=np.random.randint(10,20,(5))\n",
    "numbers=np.sort(numbers)\n",
    "print(numbers)\n",
    "print(type(numbers))\n",
    "\n",
    "for number in numbers:\n",
    "    if number%2==0:\n",
    "        print(number)\n",
    "        \n",
    "\n",
    "        \n"
   ]
  },
  {
   "cell_type": "code",
   "execution_count": null,
   "id": "f75a19a3-0383-44db-9bd1-a148d59e2c96",
   "metadata": {},
   "outputs": [],
   "source": [
    "# replacing odd number with -1\n",
    "print(numbers)\n",
    "for i in range(len(numbers)):\n",
    "    if numbers[i]%2!=0:\n",
    "        numbers[i]=-1\n",
    "print(numbers)\n",
    "       \n",
    "      "
   ]
  },
  {
   "cell_type": "code",
   "execution_count": null,
   "id": "c63e82d1-2868-4321-8644-bda6c6bbcaf1",
   "metadata": {},
   "outputs": [],
   "source": [
    "# sum of elements in numpy array\n",
    "n=np.random.randint(10,20,(5))\n",
    "print(n)\n",
    "sum=0\n",
    "for i in range(len(n)):\n",
    "    sum+=n[i]\n",
    "print(f\"sum is: {sum}\")"
   ]
  },
  {
   "cell_type": "code",
   "execution_count": null,
   "id": "77e76bd2-14db-4b82-9790-33d67e117905",
   "metadata": {},
   "outputs": [],
   "source": [
    "matrix=np.random.randint(1,9,(3,3))\n",
    "print(matrix)\n",
    "arr=matrix.flatten()\n",
    "print(arr)\n"
   ]
  },
  {
   "cell_type": "code",
   "execution_count": null,
   "id": "f148cd7e-75ea-4c0a-ba7e-c23f08a92111",
   "metadata": {},
   "outputs": [],
   "source": [
    "# task to be done using pandas"
   ]
  },
  {
   "cell_type": "code",
   "execution_count": null,
   "id": "d998205e-ebcd-4a41-bfd9-f6d8dfafd4a8",
   "metadata": {},
   "outputs": [],
   "source": [
    "import pandas as pd\n",
    "dataframe=pd.DataFrame({'Name':['Ram','Rita','Hari'], 'Address':['ktm','btm','bkt']})\n",
    "df=dataframe\n",
    "print(dataframe)\n",
    "print(type(dataframe))\n",
    "dataframe['age']=30\n",
    "print(dataframe)\n",
    "\n",
    "dataframe=dataframe.drop(columns=['age']) #to remove the column\n",
    "print('................................')\n",
    "print(dataframe)\n",
    "\n",
    "df=df.drop(index=1) #to remove the row\n",
    "print('...............................')\n",
    "print(df)\n",
    "\n",
    "# renaming the column name of df\n",
    "df=df.rename(columns={'Name':'name','Address':'place'})\n",
    "print('......................')\n",
    "print(df)"
   ]
  },
  {
   "cell_type": "code",
   "execution_count": null,
   "id": "3fce4bf4-e3ee-44b9-a4f3-efa0d41257c8",
   "metadata": {},
   "outputs": [],
   "source": [
    "# playing withdataset from kaggle\n"
   ]
  },
  {
   "cell_type": "code",
   "execution_count": null,
   "id": "54e5c4b5-4452-4d25-ae10-3b6f5a1b8df4",
   "metadata": {},
   "outputs": [],
   "source": [
    "import pandas as pd"
   ]
  },
  {
   "cell_type": "code",
   "execution_count": null,
   "id": "6d4259e0-057d-4bf1-97c3-08c77cb33d8e",
   "metadata": {},
   "outputs": [],
   "source": [
    "df=pd.read_csv(\"pandaCSV/short.csv\")\n",
    "df['new']='ashes'\n",
    "df['abc']=112\n",
    "df=df.rename(columns={'thickness':'thick','adhesion':'what?','nuclei':'bomb'})\n",
    "print(df.head)\n",
    "\n"
   ]
  },
  {
   "cell_type": "code",
   "execution_count": null,
   "id": "1362168e-edac-4bcc-99fa-28b90e0e113e",
   "metadata": {},
   "outputs": [],
   "source": [
    "# printing the summary of above dataframe\n",
    "print(df.describe())"
   ]
  },
  {
   "cell_type": "code",
   "execution_count": null,
   "id": "a3314943-2816-4037-8aed-4789a4efefd5",
   "metadata": {},
   "outputs": [],
   "source": [
    "# creating a new null data column with null value, finding it and replacing"
   ]
  },
  {
   "cell_type": "code",
   "execution_count": null,
   "id": "bd67b39f-84cf-4490-a466-46cdd386c8f6",
   "metadata": {},
   "outputs": [],
   "source": [
    "df['fornull']=None\n",
    "# print(df.isnull)\n",
    "print(df.isnull().sum())  \n",
    "df.fillna('zero', inplace=True)\n",
    "print(df)"
   ]
  },
  {
   "cell_type": "code",
   "execution_count": null,
   "id": "b4a16316-b335-476b-8f2b-3d7c63cadca0",
   "metadata": {},
   "outputs": [],
   "source": [
    "# using matplotlib"
   ]
  },
  {
   "cell_type": "code",
   "execution_count": null,
   "id": "d70a6370-b4b2-4ec6-a547-6c74b157bb71",
   "metadata": {},
   "outputs": [],
   "source": [
    "# create various chart using any dataset from kaggle\n",
    "\n"
   ]
  },
  {
   "cell_type": "code",
   "execution_count": null,
   "id": "cb8e1af7-5f1e-4bbe-bdb0-3c18f290ab79",
   "metadata": {},
   "outputs": [],
   "source": [
    "# numpy: high dimension matrix load garna.\n",
    "# pandas: dataset load garna. add del modify columns and rows of dataset\n",
    "# matplotlib: used for data visualization. chart graphs etc ko rup ma"
   ]
  }
 ],
 "metadata": {
  "kernelspec": {
   "display_name": "Python 3 (ipykernel)",
   "language": "python",
   "name": "python3"
  },
  "language_info": {
   "codemirror_mode": {
    "name": "ipython",
    "version": 3
   },
   "file_extension": ".py",
   "mimetype": "text/x-python",
   "name": "python",
   "nbconvert_exporter": "python",
   "pygments_lexer": "ipython3",
   "version": "3.10.5"
  }
 },
 "nbformat": 4,
 "nbformat_minor": 5
}
